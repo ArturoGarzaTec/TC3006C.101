{
 "cells": [
  {
   "cell_type": "markdown",
   "source": [
    "# Modelo Regresión Logística Multivariable\n",
    "\n",
    "Para más información sobre la implementación favor de consultar el reporte final del reto en la sección Selección, Configuración y Entrenamiento del Modelo. El reporte esta ubicado en el repositorio en la carpeta llamada Modelos, junto con las carpetas de cada modelo. El nombre del archivo es: ReporteFinal_Equipo7.pdf. También se puede consultar por medio del siguiente link: https://docs.google.com/document/d/199vDBFCTWJKEMpJC6qNKBOe6Gf4dxnn06aPI6NvIPmA/edit?usp=sharing\n",
    "\n",
    "Elaborado por Marcelo Márquez Murillo - A01720588, para la clase TC3006C.101 del equipo 7"
   ],
   "metadata": {
    "collapsed": false
   },
   "id": "8c6259b0b50061ac"
  },
  {
   "cell_type": "code",
   "execution_count": 313,
   "outputs": [],
   "source": [
    "# Importamos las librerías necesarias\n",
    "import pandas as pd\n",
    "import numpy as np\n",
    "from sklearn.model_selection import train_test_split"
   ],
   "metadata": {
    "collapsed": false,
    "ExecuteTime": {
     "end_time": "2023-08-28T17:40:29.349394Z",
     "start_time": "2023-08-28T17:40:29.332876Z"
    }
   },
   "id": "1422e49686da67be"
  },
  {
   "cell_type": "markdown",
   "source": [
    "## Creamos clase de regresión logísitica"
   ],
   "metadata": {
    "collapsed": false
   },
   "id": "55900a7d2b579bc9"
  },
  {
   "cell_type": "code",
   "execution_count": 314,
   "outputs": [],
   "source": [
    "class LogisticRegression:\n",
    "    def __init__(self, independent, dependent, num_iters, learning_rate):\n",
    "        self.dependent = dependent\n",
    "        self.n = len(dependent)\n",
    "        # Agregar una columna de unos para que se multiple con el theta0\n",
    "        self.independent = np.c_[np.ones(self.n), independent]\n",
    "        self.num_iters = num_iters\n",
    "        self.learning_rate = learning_rate\n",
    "        # Crear lista de unos tomando en cuenta el número de variables independientes +1 \n",
    "        self.theta = np.ones(independent.shape[1] + 1)\n",
    "    \n",
    "    def h(self, x_n):\n",
    "        # Multiplicación de matriz de variables independientes con lista de theta\n",
    "        # z = theta0*1 + theta1*xi1 + theta2*xi2\n",
    "        z = np.dot(x_n, self.theta)\n",
    "        return 1 / (1 + np.exp(-z))\n",
    "    \n",
    "    def fit(self):\n",
    "        # Iniciar un bucle que se ejecutará durante 'num_iters' iteraciones\n",
    "        for i in range(self.num_iters):\n",
    "            \n",
    "            # Utilizar el método 'h' para calcular las predicciones de todas las muestras\n",
    "            # Esto se realiza utilizando la matriz completa de variables independientes\n",
    "            predictions = self.h(self.independent)\n",
    "            \n",
    "            # Calcular el error (o delta) entre las predicciones y los valores reales (dependientes)\n",
    "            # El resultado es un vector que contiene el error para cada muestra\n",
    "            delta = predictions - self.dependent\n",
    "            \n",
    "            # Calcular el gradiente del error con respecto a los parámetros theta\n",
    "            # Para ello, se realiza el producto punto entre la matriz traspuesta de las variables independientes\n",
    "            # y el vector de errores, y luego se divide por el número total de muestras (self.n)\n",
    "            gradient = np.dot(self.independent.T, delta) / self.n\n",
    "            \n",
    "            # Actualizar los valores de los parámetros theta utilizando el gradiente y la tasa de aprendizaje\n",
    "            # La actualización se realiza en dirección opuesta al gradiente para minimizar la función de costo\n",
    "            self.theta -= self.learning_rate * gradient\n",
    "        \n",
    "        # Imprimir los valores finales de los parámetros theta\n",
    "        print(f\"Thetas finales: {self.theta}\")\n",
    "\n",
    "    \n",
    "    def predict(self, xi):\n",
    "        # Renglón de X y le agregamos un 1 para theta0\n",
    "        xi = np.c_[np.ones(xi.shape[0]), xi]\n",
    "        prob = self.h(xi)\n",
    "        return np.round(prob)\n",
    "    \n",
    "    @staticmethod\n",
    "    def evaluate(x_test, y_test):\n",
    "        vp = 0\n",
    "        vn = 0\n",
    "        fp = 0\n",
    "        fn = 0\n",
    "        \n",
    "        # Conseguimos matriz de confusión\n",
    "        n = len(x_test)\n",
    "        for i in range(n):\n",
    "            if y_test[i] == 1: \n",
    "                if x_test[i] == 1:\n",
    "                    vp += 1\n",
    "                else:\n",
    "                    fp += 1\n",
    "            else:\n",
    "                if x_test[i] == 0:\n",
    "                    vn += 1\n",
    "                else:\n",
    "                    fn += 1\n",
    "        print(f\"Model: vp - {vp}, vn - {vn}, fp - {fp}, fn - {fn}\")\n",
    "        \n",
    "        # Conseguimos las métricas\n",
    "        a = round((vp + vn) / (vp + vn + fp + fn), 2)\n",
    "        p = round(vp / (vp + fp), 2)\n",
    "        r = round(vp / (vp + fn), 2)\n",
    "        f1 = round((2 * p * r) / (p + r), 2)\n",
    "        print(f\"Accuracy: {a}, Precision: {p}, Recall: {r}, F1 Score: {f1}\")"
   ],
   "metadata": {
    "collapsed": false,
    "ExecuteTime": {
     "end_time": "2023-08-28T17:40:29.383261Z",
     "start_time": "2023-08-28T17:40:29.344803Z"
    }
   },
   "id": "a360ae4e68b173b5"
  },
  {
   "cell_type": "markdown",
   "source": [
    "## Configuración 1"
   ],
   "metadata": {
    "collapsed": false
   },
   "id": "f0e44304cd276c94"
  },
  {
   "cell_type": "code",
   "execution_count": 315,
   "outputs": [],
   "source": [
    "# Conseguir los datos de la primera configuración\n",
    "df1 = pd.read_csv(\"train_ff_split.csv\")\n",
    "# Conseguir las variables independientes\n",
    "x = df1.drop(\"Survived\", axis=1)\n",
    "# Conseguir la variable dependiente\n",
    "y = df1[\"Survived\"].tolist()\n",
    "\n",
    "df_test = pd.read_csv(\"train_transformed.csv\")\n",
    "test_x = df_test.drop(\"Survived\", axis=1)\n",
    "test_y = df_test[\"Survived\"].tolist()"
   ],
   "metadata": {
    "collapsed": false,
    "ExecuteTime": {
     "end_time": "2023-08-28T17:40:29.383658Z",
     "start_time": "2023-08-28T17:40:29.359980Z"
    }
   },
   "id": "a9a5d93a511442ea"
  },
  {
   "cell_type": "code",
   "execution_count": 316,
   "outputs": [
    {
     "name": "stdout",
     "output_type": "stream",
     "text": [
      "Thetas finales: [ 19.22645254  -3.36456472  -0.21479313 -10.30627054  -0.79546938\n",
      "   0.93186388  -0.58330492]\n"
     ]
    }
   ],
   "source": [
    "# Crear modelo\n",
    "model1 = LogisticRegression(independent=x, dependent=y, num_iters=350000, learning_rate=0.05)\n",
    "# Entrenamos al modelo\n",
    "model1.fit()"
   ],
   "metadata": {
    "collapsed": false,
    "ExecuteTime": {
     "end_time": "2023-08-28T17:40:47.197546Z",
     "start_time": "2023-08-28T17:40:29.372648Z"
    }
   },
   "id": "60b59cb33cf3bfd7"
  },
  {
   "cell_type": "markdown",
   "source": [
    "### Hacemos pruebas de la configuración 1 con una matriz de confusión"
   ],
   "metadata": {
    "collapsed": false
   },
   "id": "4bb28e9a788afc3"
  },
  {
   "cell_type": "code",
   "execution_count": 317,
   "outputs": [
    {
     "name": "stdout",
     "output_type": "stream",
     "text": [
      "Configuración 1\n",
      "Model: vp - 254, vn - 462, fp - 88, fn - 87\n",
      "Accuracy: 0.8, Precision: 0.74, Recall: 0.74, F1 Score: 0.74\n"
     ]
    }
   ],
   "source": [
    "print(\"Configuración 1\")\n",
    "predictions = model1.predict(test_x)\n",
    "model1.evaluate(predictions, test_y)"
   ],
   "metadata": {
    "collapsed": false,
    "ExecuteTime": {
     "end_time": "2023-08-28T17:40:47.207275Z",
     "start_time": "2023-08-28T17:40:47.202041Z"
    }
   },
   "id": "9e745e98421de11d"
  },
  {
   "cell_type": "markdown",
   "source": [
    "## Configuración 2"
   ],
   "metadata": {
    "collapsed": false
   },
   "id": "37351afb015007f1"
  },
  {
   "cell_type": "code",
   "execution_count": 318,
   "outputs": [],
   "source": [
    "# Conseguir los datos de la segunda configuración\n",
    "df2 = pd.read_csv(\"train_transformed.csv\")\n",
    "# Conseguir las variables independientes\n",
    "x = df2.drop(\"Survived\", axis=1)\n",
    "# Conseguir la variable dependiente\n",
    "y = df2[\"Survived\"].tolist()\n",
    "\n",
    "# Dividimos los datos en 70% (train) y 30% (test)\n",
    "x_train, x_test, y_train, y_test = train_test_split(x, y, random_state=0, test_size=0.3)"
   ],
   "metadata": {
    "collapsed": false,
    "ExecuteTime": {
     "end_time": "2023-08-28T17:40:47.248832Z",
     "start_time": "2023-08-28T17:40:47.206588Z"
    }
   },
   "id": "170d8fa6bdb5e593"
  },
  {
   "cell_type": "code",
   "execution_count": 319,
   "outputs": [
    {
     "name": "stdout",
     "output_type": "stream",
     "text": [
      "Thetas finales: [ 33.03852825  -5.42859445  -0.32340685 -16.44406017  -2.39520392\n",
      "   0.99601571  -1.46541217]\n"
     ]
    }
   ],
   "source": [
    "# Crear modelo\n",
    "model2 = LogisticRegression(independent=x_train, dependent=y_train, num_iters=300000, learning_rate=0.1)\n",
    "# Entrenamos al modelo\n",
    "model2.fit()"
   ],
   "metadata": {
    "collapsed": false,
    "ExecuteTime": {
     "end_time": "2023-08-28T17:41:00.654844Z",
     "start_time": "2023-08-28T17:40:47.224937Z"
    }
   },
   "id": "7cb31d89740e4848"
  },
  {
   "cell_type": "markdown",
   "source": [
    "### Hacemos pruebas de la configuración 2 con una matriz de confusión"
   ],
   "metadata": {
    "collapsed": false
   },
   "id": "45f965a7863ae2f0"
  },
  {
   "cell_type": "code",
   "execution_count": 320,
   "outputs": [
    {
     "name": "stdout",
     "output_type": "stream",
     "text": [
      "Configuración 2\n",
      "Model: vp - 73, vn - 143, fp - 27, fn - 25\n",
      "Accuracy: 0.81, Precision: 0.73, Recall: 0.74, F1 Score: 0.73\n"
     ]
    }
   ],
   "source": [
    "print(\"Configuración 2\")\n",
    "predictions = model2.predict(x_test)\n",
    "model2.evaluate(predictions, y_test)"
   ],
   "metadata": {
    "collapsed": false,
    "ExecuteTime": {
     "end_time": "2023-08-28T17:41:00.655369Z",
     "start_time": "2023-08-28T17:41:00.652933Z"
    }
   },
   "id": "49d18a3c0176559c"
  }
 ],
 "metadata": {
  "kernelspec": {
   "display_name": "Python 3",
   "language": "python",
   "name": "python3"
  },
  "language_info": {
   "codemirror_mode": {
    "name": "ipython",
    "version": 2
   },
   "file_extension": ".py",
   "mimetype": "text/x-python",
   "name": "python",
   "nbconvert_exporter": "python",
   "pygments_lexer": "ipython2",
   "version": "2.7.6"
  }
 },
 "nbformat": 4,
 "nbformat_minor": 5
}
